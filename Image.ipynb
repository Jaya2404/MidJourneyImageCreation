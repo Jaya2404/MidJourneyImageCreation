{
  "cells": [
    {
      "cell_type": "code",
      "execution_count": 8,
      "metadata": {
        "colab": {
          "base_uri": "https://localhost:8080/"
        },
        "id": "UZtyjqXS__o5",
        "outputId": "95b77bfd-eae0-4e2b-e6dc-06b5acf558dd"
      },
      "outputs": [
        {
          "output_type": "stream",
          "name": "stdout",
          "text": [
            "Message ID: ctrCluBSDxraCafjV2fa\n"
          ]
        }
      ],
      "source": [
        "import requests\n",
        "import json\n",
        "\n",
        "class MidjourneyAPI:\n",
        "    BASE_URL = \"https://api.thenextleg.io/v2\"\n",
        "    HEADERS = {\n",
        "        \"Authorization\": None,\n",
        "        \"Content-Type\": \"application/json\",\n",
        "    }\n",
        "\n",
        "    def __init__(self, auth_token):\n",
        "        self.HEADERS[\"Authorization\"] = f\"Bearer {auth_token}\"\n",
        "\n",
        "    def imagine(self, prompt):\n",
        "        url = f\"{self.BASE_URL}/imagine\"\n",
        "        payload = {\n",
        "            \"msg\": prompt,\n",
        "            \"ref\": \"\",\n",
        "            \"webhookOverride\": \"\",\n",
        "            \"ignorePrefilter\": False\n",
        "        }\n",
        "        response = requests.post(url, headers=self.HEADERS, json=payload)\n",
        "        response.raise_for_status()  # Raise an exception if there was an HTTP error\n",
        "        return response.json()\n",
        "\n",
        "    def get_message(self, message_id):\n",
        "        url = f\"{self.BASE_URL}/message/{message_id}\"\n",
        "        response = requests.get(url, headers=self.HEADERS)\n",
        "        response.raise_for_status()  # Raise an exception if there was an HTTP error\n",
        "        return response.json()\n",
        "\n",
        "# Initialize the MidjourneyAPI with your authorization token\n",
        "auth_token = \"Use MidJourneyAuthID\"\n",
        "midjourney = MidjourneyAPI(auth_token)\n",
        "\n",
        "# Your prompt or text message that you want to convert to an image\n",
        "prompt = \"A pink heeled sandle with heel height 3 inches, sling back closure, ideal for parties\"\n",
        "\n",
        "try:\n",
        "    # Call the imagine function to generate an image from the prompt\n",
        "    response = midjourney.imagine(prompt)\n",
        "\n",
        "    # Check the response for the generated image URL\n",
        "    if 'messageId' in response:\n",
        "        message_id = response['messageId']\n",
        "        print(f'Message ID: {message_id}')  # Fix: Added closing parenthesis here\n",
        "\n",
        "except Exception as e:\n",
        "    print(f'Error: {str(e)}')"
      ]
    },
    {
      "cell_type": "code",
      "execution_count": 13,
      "metadata": {
        "colab": {
          "base_uri": "https://localhost:8080/"
        },
        "id": "PxNDqs2TGpaY",
        "outputId": "497e7999-ed38-4003-b5ab-ce9cafc1d4a5"
      },
      "outputs": [
        {
          "output_type": "execute_result",
          "data": {
            "text/plain": [
              "{'progress': 100,\n",
              " 'response': {'accountId': 'JXXa6sf98WQibplTK2hj',\n",
              "  'createdAt': '2023-10-13T03:56:42.261Z',\n",
              "  'originatingMessageId': 'ZyQe5wW06XJSDgdhUVRL',\n",
              "  'ref': '',\n",
              "  'buttons': ['U1', 'U2', 'U3', 'U4', '🔄', 'V1', 'V2', 'V3', 'V4'],\n",
              "  'imageUrl': 'https://cdn.discordapp.com/attachments/1092773130163986493/1162237453210497045/addisonji_A_Pacific_Northwest_with_heeltype_stiletto_shoes_4a3a7f50-4e1e-4789-8cb6-c1ec6f4e4db7.png?ex=653b34fa&is=6528bffa&hm=a94075031321c94b207dd7e73738c1344f2c6433115614ab559af8dba73c61d9&',\n",
              "  'imageUrls': ['https://cdn.midjourney.com/4a3a7f50-4e1e-4789-8cb6-c1ec6f4e4db7/0_0.png',\n",
              "   'https://cdn.midjourney.com/4a3a7f50-4e1e-4789-8cb6-c1ec6f4e4db7/0_1.png',\n",
              "   'https://cdn.midjourney.com/4a3a7f50-4e1e-4789-8cb6-c1ec6f4e4db7/0_2.png',\n",
              "   'https://cdn.midjourney.com/4a3a7f50-4e1e-4789-8cb6-c1ec6f4e4db7/0_3.png'],\n",
              "  'responseAt': '2023-10-13T03:56:42.547Z',\n",
              "  'description': '',\n",
              "  'type': 'imagine',\n",
              "  'content': 'A Pacific Northwest with heeltype_stiletto shoes',\n",
              "  'buttonMessageId': 'cjg8H0lN5kxYOL2pZnBq'}}"
            ]
          },
          "metadata": {},
          "execution_count": 13
        }
      ],
      "source": [
        "import requests\n",
        "import json\n",
        "import time\n",
        "\n",
        "url = f\"https://api.thenextleg.io/v2/message/ZyQe5wW06XJSDgdhUVRL?expireMins=2\"\n",
        "\n",
        "value = 0\n",
        "\n",
        "headers = {\n",
        "  'Authorization': 'Bearer UseMidJourneyAuthID',\n",
        "}\n",
        "\n",
        "progress = 0\n",
        "\n",
        "while progress < 100:\n",
        "    response = requests.request(\"GET\", url, headers=headers)\n",
        "    data = response.json()\n",
        "    if 'progress' in data:\n",
        "        progress = data['progress']\n",
        "\n",
        "    if progress == 0:\n",
        "        continue\n",
        "    elif progress == 100:\n",
        "        break\n",
        "    time.sleep(1)\n",
        "\n",
        "response.json()"
      ]
    },
    {
      "cell_type": "code",
      "source": [],
      "metadata": {
        "id": "gaouEjOH-YrL"
      },
      "execution_count": null,
      "outputs": []
    }
  ],
  "metadata": {
    "colab": {
      "provenance": []
    },
    "kernelspec": {
      "display_name": "Python 3",
      "name": "python3"
    },
    "language_info": {
      "name": "python"
    }
  },
  "nbformat": 4,
  "nbformat_minor": 0
}
